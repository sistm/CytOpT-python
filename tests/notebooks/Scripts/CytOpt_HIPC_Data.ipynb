{
 "cells": [
  {
   "cell_type": "markdown",
   "metadata": {},
   "source": [
    "## CytOpt on the HIPC Data"
   ]
  },
  {
   "cell_type": "markdown",
   "metadata": {},
   "source": [
    "In this notebook, we apply our method ${\\tt CytOpt}$ on various datasets of the HIPC panel. From our numerical experiments, the computation time to get an estimate of the class proportions with the descent-ascent procedure is between 10 and 20 minutes. With the minmax swapping procedure, this computation time is between 1 and 3 minutes."
   ]
  },
  {
   "cell_type": "markdown",
   "metadata": {},
   "source": [
    "##### How to try ${\\tt CytOpt}$ on other HIPC data sets.\n",
    "\n",
    "An HIPC data set has the following structure :\n",
    "\n",
    "xx_y_values : Cytometry measurements \n",
    "\n",
    "xx_y_clust : Corresponding manual clustering\n",
    "\n",
    "xx labels the center where the data analysis was performed.\n",
    "-replace xx by W2 for Stanford .\n",
    "-replace xx by D54 for NHLBI.\n",
    "-replace xx by FTV for Yale.\n",
    "-replace xx by IU for UCLA.\n",
    "-replace xx by O0 for CIMR.\n",
    "-replace xx by pw for Baylor.\n",
    "-replace xx by pM for Miami.\n",
    "\n",
    "y labels the patient and the replicate of the biological sample.\n",
    "-replace y by 1 for patient 1 replicate A (except for Baylor this replicate is not available).\n",
    "-replace y by 2 for patient 1 replicate B.\n",
    "-replace y by 3 for patient 1 replicate C.\n",
    "-replace y by 4 for patient 2 replicate A.\n",
    "-replace y by 5 for patient 2 replicate B.\n",
    "-replace y by 6 for patient 2 replicate C.\n",
    "-replace y by 7 for patient 3 replicate A.\n",
    "-replace y by 8 for patient 3 replicate B.\n",
    "-replace y by 9 for patient 3 replicate C.\n"
   ]
  },
  {
   "cell_type": "markdown",
   "metadata": {},
   "source": [
    "##### import modules and functions"
   ]
  },
  {
   "cell_type": "code",
   "execution_count": 1,
   "metadata": {},
   "outputs": [],
   "source": [
    "import numpy as np\n",
    "import pandas as pd\n",
    "import matplotlib.pyplot as plt\n",
    "import seaborn as sns\n",
    "import time\n",
    "\n",
    "import CytOpT.CytOpt as cytopt\n",
    "import CytOpT.plots as cplt"
   ]
  },
  {
   "cell_type": "markdown",
   "metadata": {},
   "source": [
    "##### import data"
   ]
  },
  {
   "cell_type": "code",
   "execution_count": 2,
   "metadata": {},
   "outputs": [],
   "source": [
    "#Source Data\n",
    "\n",
    "Stanford1A_values = pd.read_csv('../../data/W2_1_values.csv',\n",
    "                                 usecols = np.arange(1,8))\n",
    "Stanford1A_clust = pd.read_csv('../../data/W2_1_clust.csv',\n",
    "                                usecols = [1])\n",
    "\n",
    "#Target Data\n",
    "\n",
    "Stanford3C_values = pd.read_csv('../../data/W2_9_values.csv',\n",
    "                                 usecols = np.arange(1,8))\n",
    "Stanford3C_clust = pd.read_csv('../../data/W2_9_clust.csv',\n",
    "                                usecols = [1])\n",
    "\n",
    "\n",
    "Miami3A_values = pd.read_csv('../../data/pM_7_values.csv', \n",
    "                             usecols = np.arange(1,8))\n",
    "Miami3A_clust = pd.read_csv('../../data/pM_7_clust.csv',\n",
    "                            usecols = [1])\n",
    "\n",
    "\n",
    "Ucla2B_values = pd.read_csv('../../data/IU_5_values.csv',\n",
    "                            usecols = np.arange(1,8))\n",
    "Ucla2B_clust = pd.read_csv('../../data/IU_5_clust.csv',\n",
    "                           usecols = [1])"
   ]
  },
  {
   "cell_type": "markdown",
   "metadata": {},
   "source": [
    "Preprocessing of the source data"
   ]
  },
  {
   "cell_type": "code",
   "execution_count": 3,
   "metadata": {},
   "outputs": [],
   "source": [
    "X_source = np.asarray(Stanford1A_values)\n",
    "Lab_source = np.asarray(Stanford1A_clust['x'])"
   ]
  },
  {
   "cell_type": "markdown",
   "metadata": {},
   "source": [
    "#### Target data : Stanford3C"
   ]
  },
  {
   "cell_type": "markdown",
   "metadata": {},
   "source": [
    "Preprocessing of the target data"
   ]
  },
  {
   "cell_type": "code",
   "execution_count": 4,
   "metadata": {},
   "outputs": [],
   "source": [
    "X_target = np.asarray(Stanford3C_values)\n",
    "Lab_target = np.asarray(Stanford3C_clust['x'])"
   ]
  },
  {
   "cell_type": "markdown",
   "metadata": {},
   "source": [
    "Computation of the benchmark class proportions"
   ]
  },
  {
   "cell_type": "code",
   "execution_count": 5,
   "metadata": {},
   "outputs": [
    {
     "data": {
      "text/plain": [
       "array([ 1,  1,  1, ..., 10, 10, 10])"
      ]
     },
     "execution_count": 5,
     "metadata": {},
     "output_type": "execute_result"
    }
   ],
   "source": [
    "h_true = np.zeros(10)\n",
    "for k in range(10):\n",
    "    h_true[k] = np.sum(Lab_target == k+1)/len(Lab_target)\n",
    "    \n",
    "Lab_target"
   ]
  },
  {
   "cell_type": "markdown",
   "metadata": {},
   "source": [
    "##### Descent-ascent procedure"
   ]
  },
  {
   "cell_type": "markdown",
   "metadata": {},
   "source": [
    "Setting of the parameters for the descent-ascent procedure."
   ]
  },
  {
   "cell_type": "code",
   "execution_count": 6,
   "metadata": {},
   "outputs": [],
   "source": [
    "n_it_grad = 5000\n",
    "n_it_sto = 10\n",
    "pas_grad = 10\n",
    "eps=0.0005\n",
    "monitoring=False"
   ]
  },
  {
   "cell_type": "code",
   "execution_count": 7,
   "metadata": {
    "scrolled": true
   },
   "outputs": [
    {
     "name": "stdout",
     "output_type": "stream",
     "text": [
      "Running Desent-ascent optimization...\n",
      "Iteration  0\n",
      "Current h_hat\n",
      "[0.10029683 0.1007061  0.09920702 0.09968007 0.09899591 0.09746223\n",
      " 0.10049881 0.10052135 0.10098735 0.10164432]\n",
      "Iteration  1000\n",
      "Current h_hat\n",
      "[0.06995242 0.09488553 0.05092162 0.06245256 0.02506044 0.00720463\n",
      " 0.38118918 0.19218563 0.08853393 0.02761407]\n",
      "Iteration  2000\n",
      "Current h_hat\n",
      "[0.06157028 0.08803279 0.04088277 0.04923897 0.01990597 0.00534977\n",
      " 0.34835031 0.25958095 0.1080342  0.01905398]\n",
      "Iteration  3000\n",
      "Current h_hat\n",
      "[0.06621694 0.09771971 0.04187398 0.05286489 0.0168886  0.00479563\n",
      " 0.32129191 0.27645102 0.10536666 0.01653065]\n",
      "Iteration  4000\n",
      "Current h_hat\n",
      "[0.05571815 0.10170284 0.03687739 0.05074915 0.01365826 0.00393184\n",
      " 0.36879113 0.22784971 0.12713131 0.01359023]\n",
      "Done ( 477.957 s)\n",
      "Done ( 477.9704873561859 s)\n",
      "\n"
     ]
    }
   ],
   "source": [
    "t0 = time.time()\n",
    "h_hat1 = cytopt.CytOpT(X_source, X_target, Lab_source,thetaTrue=h_true,\n",
    "                      method=\"desasc\",nItGrad=n_it_grad,nItSto=n_it_sto,stepGrad=pas_grad,eps=eps,\n",
    "                      monitoring=monitoring)\n",
    "elapsed_time = time.time() - t0"
   ]
  },
  {
   "cell_type": "code",
   "execution_count": 8,
   "metadata": {},
   "outputs": [
    {
     "name": "stdout",
     "output_type": "stream",
     "text": [
      "Elapsed_time : 7.966356114546458 mins\n"
     ]
    }
   ],
   "source": [
    "print('Elapsed_time :', elapsed_time/60, 'mins')"
   ]
  },
  {
   "cell_type": "code",
   "execution_count": 9,
   "metadata": {},
   "outputs": [
    {
     "data": {
      "text/html": [
       "<div>\n",
       "<style scoped>\n",
       "    .dataframe tbody tr th:only-of-type {\n",
       "        vertical-align: middle;\n",
       "    }\n",
       "\n",
       "    .dataframe tbody tr th {\n",
       "        vertical-align: top;\n",
       "    }\n",
       "\n",
       "    .dataframe thead th {\n",
       "        text-align: right;\n",
       "    }\n",
       "</style>\n",
       "<table border=\"1\" class=\"dataframe\">\n",
       "  <thead>\n",
       "    <tr style=\"text-align: right;\">\n",
       "      <th></th>\n",
       "      <th>GoldStandard</th>\n",
       "      <th>desasc</th>\n",
       "    </tr>\n",
       "  </thead>\n",
       "  <tbody>\n",
       "    <tr>\n",
       "      <th>0</th>\n",
       "      <td>0.016490</td>\n",
       "      <td>0.053089</td>\n",
       "    </tr>\n",
       "    <tr>\n",
       "      <th>1</th>\n",
       "      <td>0.130506</td>\n",
       "      <td>0.107127</td>\n",
       "    </tr>\n",
       "    <tr>\n",
       "      <th>2</th>\n",
       "      <td>0.049117</td>\n",
       "      <td>0.037746</td>\n",
       "    </tr>\n",
       "    <tr>\n",
       "      <th>3</th>\n",
       "      <td>0.057538</td>\n",
       "      <td>0.055847</td>\n",
       "    </tr>\n",
       "    <tr>\n",
       "      <th>4</th>\n",
       "      <td>0.009776</td>\n",
       "      <td>0.012703</td>\n",
       "    </tr>\n",
       "    <tr>\n",
       "      <th>5</th>\n",
       "      <td>0.003239</td>\n",
       "      <td>0.003546</td>\n",
       "    </tr>\n",
       "    <tr>\n",
       "      <th>6</th>\n",
       "      <td>0.335159</td>\n",
       "      <td>0.368574</td>\n",
       "    </tr>\n",
       "    <tr>\n",
       "      <th>7</th>\n",
       "      <td>0.270289</td>\n",
       "      <td>0.230791</td>\n",
       "    </tr>\n",
       "    <tr>\n",
       "      <th>8</th>\n",
       "      <td>0.106596</td>\n",
       "      <td>0.117827</td>\n",
       "    </tr>\n",
       "    <tr>\n",
       "      <th>9</th>\n",
       "      <td>0.021290</td>\n",
       "      <td>0.012750</td>\n",
       "    </tr>\n",
       "  </tbody>\n",
       "</table>\n",
       "</div>"
      ],
      "text/plain": [
       "   GoldStandard    desasc\n",
       "0      0.016490  0.053089\n",
       "1      0.130506  0.107127\n",
       "2      0.049117  0.037746\n",
       "3      0.057538  0.055847\n",
       "4      0.009776  0.012703\n",
       "5      0.003239  0.003546\n",
       "6      0.335159  0.368574\n",
       "7      0.270289  0.230791\n",
       "8      0.106596  0.117827\n",
       "9      0.021290  0.012750"
      ]
     },
     "execution_count": 9,
     "metadata": {},
     "output_type": "execute_result"
    }
   ],
   "source": [
    "h_hat1 = h_hat1['proportions']\n",
    "h_hat1"
   ]
  },
  {
   "cell_type": "markdown",
   "metadata": {},
   "source": [
    "##### Minmax swapping procedure"
   ]
  },
  {
   "cell_type": "markdown",
   "metadata": {},
   "source": [
    "parameters setting for the second procedure"
   ]
  },
  {
   "cell_type": "code",
   "execution_count": 10,
   "metadata": {},
   "outputs": [],
   "source": [
    "lbd = 0.0001\n",
    "eps_two = 0.0001\n",
    "n_iter = 5000\n",
    "step_size = 5\n",
    "power = 0.99"
   ]
  },
  {
   "cell_type": "code",
   "execution_count": 11,
   "metadata": {},
   "outputs": [
    {
     "name": "stdout",
     "output_type": "stream",
     "text": [
      "Running MinMax optimization...\n",
      "Done ( 28.787 s)\n",
      "Done ( 28.801419973373413 s)\n",
      "\n"
     ]
    }
   ],
   "source": [
    "t0 = time.time()\n",
    "results = cytopt.CytOpT(X_source, X_target, Lab_source, thetaTrue=h_true,\n",
    "                             method=\"minmax\",lbd=lbd,eps=eps_two,nIter=n_iter,step=step_size,power=power)\n",
    "elapsed_time = time.time() - t0"
   ]
  },
  {
   "cell_type": "code",
   "execution_count": 12,
   "metadata": {},
   "outputs": [
    {
     "name": "stdout",
     "output_type": "stream",
     "text": [
      "Elapsed time :  0.4804134209950765 Mins\n"
     ]
    }
   ],
   "source": [
    "print('Elapsed time : ',elapsed_time/60, 'Mins')"
   ]
  },
  {
   "cell_type": "code",
   "execution_count": 13,
   "metadata": {},
   "outputs": [
    {
     "data": {
      "text/html": [
       "<div>\n",
       "<style scoped>\n",
       "    .dataframe tbody tr th:only-of-type {\n",
       "        vertical-align: middle;\n",
       "    }\n",
       "\n",
       "    .dataframe tbody tr th {\n",
       "        vertical-align: top;\n",
       "    }\n",
       "\n",
       "    .dataframe thead th {\n",
       "        text-align: right;\n",
       "    }\n",
       "</style>\n",
       "<table border=\"1\" class=\"dataframe\">\n",
       "  <thead>\n",
       "    <tr style=\"text-align: right;\">\n",
       "      <th></th>\n",
       "      <th>GoldStandard</th>\n",
       "      <th>minmax</th>\n",
       "    </tr>\n",
       "  </thead>\n",
       "  <tbody>\n",
       "    <tr>\n",
       "      <th>0</th>\n",
       "      <td>0.016490</td>\n",
       "      <td>0.024052</td>\n",
       "    </tr>\n",
       "    <tr>\n",
       "      <th>1</th>\n",
       "      <td>0.130506</td>\n",
       "      <td>0.116961</td>\n",
       "    </tr>\n",
       "    <tr>\n",
       "      <th>2</th>\n",
       "      <td>0.049117</td>\n",
       "      <td>0.043551</td>\n",
       "    </tr>\n",
       "    <tr>\n",
       "      <th>3</th>\n",
       "      <td>0.057538</td>\n",
       "      <td>0.047040</td>\n",
       "    </tr>\n",
       "    <tr>\n",
       "      <th>4</th>\n",
       "      <td>0.009776</td>\n",
       "      <td>0.013906</td>\n",
       "    </tr>\n",
       "    <tr>\n",
       "      <th>5</th>\n",
       "      <td>0.003239</td>\n",
       "      <td>0.006388</td>\n",
       "    </tr>\n",
       "    <tr>\n",
       "      <th>6</th>\n",
       "      <td>0.335159</td>\n",
       "      <td>0.390165</td>\n",
       "    </tr>\n",
       "    <tr>\n",
       "      <th>7</th>\n",
       "      <td>0.270289</td>\n",
       "      <td>0.271123</td>\n",
       "    </tr>\n",
       "    <tr>\n",
       "      <th>8</th>\n",
       "      <td>0.106596</td>\n",
       "      <td>0.081321</td>\n",
       "    </tr>\n",
       "    <tr>\n",
       "      <th>9</th>\n",
       "      <td>0.021290</td>\n",
       "      <td>0.005493</td>\n",
       "    </tr>\n",
       "  </tbody>\n",
       "</table>\n",
       "</div>"
      ],
      "text/plain": [
       "   GoldStandard    minmax\n",
       "0      0.016490  0.024052\n",
       "1      0.130506  0.116961\n",
       "2      0.049117  0.043551\n",
       "3      0.057538  0.047040\n",
       "4      0.009776  0.013906\n",
       "5      0.003239  0.006388\n",
       "6      0.335159  0.390165\n",
       "7      0.270289  0.271123\n",
       "8      0.106596  0.081321\n",
       "9      0.021290  0.005493"
      ]
     },
     "execution_count": 13,
     "metadata": {},
     "output_type": "execute_result"
    }
   ],
   "source": [
    "h_hat2 = results['proportions']\n",
    "h_hat2"
   ]
  },
  {
   "cell_type": "code",
   "execution_count": 14,
   "metadata": {},
   "outputs": [
    {
     "data": {
      "text/html": [
       "<div>\n",
       "<style scoped>\n",
       "    .dataframe tbody tr th:only-of-type {\n",
       "        vertical-align: middle;\n",
       "    }\n",
       "\n",
       "    .dataframe tbody tr th {\n",
       "        vertical-align: top;\n",
       "    }\n",
       "\n",
       "    .dataframe thead th {\n",
       "        text-align: right;\n",
       "    }\n",
       "</style>\n",
       "<table border=\"1\" class=\"dataframe\">\n",
       "  <thead>\n",
       "    <tr style=\"text-align: right;\">\n",
       "      <th></th>\n",
       "      <th>GoldStandard</th>\n",
       "      <th>desasc</th>\n",
       "      <th>minmax</th>\n",
       "    </tr>\n",
       "  </thead>\n",
       "  <tbody>\n",
       "    <tr>\n",
       "      <th>0</th>\n",
       "      <td>0.016490</td>\n",
       "      <td>0.053089</td>\n",
       "      <td>0.024052</td>\n",
       "    </tr>\n",
       "    <tr>\n",
       "      <th>1</th>\n",
       "      <td>0.130506</td>\n",
       "      <td>0.107127</td>\n",
       "      <td>0.116961</td>\n",
       "    </tr>\n",
       "    <tr>\n",
       "      <th>2</th>\n",
       "      <td>0.049117</td>\n",
       "      <td>0.037746</td>\n",
       "      <td>0.043551</td>\n",
       "    </tr>\n",
       "    <tr>\n",
       "      <th>3</th>\n",
       "      <td>0.057538</td>\n",
       "      <td>0.055847</td>\n",
       "      <td>0.047040</td>\n",
       "    </tr>\n",
       "    <tr>\n",
       "      <th>4</th>\n",
       "      <td>0.009776</td>\n",
       "      <td>0.012703</td>\n",
       "      <td>0.013906</td>\n",
       "    </tr>\n",
       "    <tr>\n",
       "      <th>5</th>\n",
       "      <td>0.003239</td>\n",
       "      <td>0.003546</td>\n",
       "      <td>0.006388</td>\n",
       "    </tr>\n",
       "    <tr>\n",
       "      <th>6</th>\n",
       "      <td>0.335159</td>\n",
       "      <td>0.368574</td>\n",
       "      <td>0.390165</td>\n",
       "    </tr>\n",
       "    <tr>\n",
       "      <th>7</th>\n",
       "      <td>0.270289</td>\n",
       "      <td>0.230791</td>\n",
       "      <td>0.271123</td>\n",
       "    </tr>\n",
       "    <tr>\n",
       "      <th>8</th>\n",
       "      <td>0.106596</td>\n",
       "      <td>0.117827</td>\n",
       "      <td>0.081321</td>\n",
       "    </tr>\n",
       "    <tr>\n",
       "      <th>9</th>\n",
       "      <td>0.021290</td>\n",
       "      <td>0.012750</td>\n",
       "      <td>0.005493</td>\n",
       "    </tr>\n",
       "  </tbody>\n",
       "</table>\n",
       "</div>"
      ],
      "text/plain": [
       "   GoldStandard    desasc    minmax\n",
       "0      0.016490  0.053089  0.024052\n",
       "1      0.130506  0.107127  0.116961\n",
       "2      0.049117  0.037746  0.043551\n",
       "3      0.057538  0.055847  0.047040\n",
       "4      0.009776  0.012703  0.013906\n",
       "5      0.003239  0.003546  0.006388\n",
       "6      0.335159  0.368574  0.390165\n",
       "7      0.270289  0.230791  0.271123\n",
       "8      0.106596  0.117827  0.081321\n",
       "9      0.021290  0.012750  0.005493"
      ]
     },
     "execution_count": 14,
     "metadata": {},
     "output_type": "execute_result"
    }
   ],
   "source": [
    "h_hat1['minmax'] = h_hat2['minmax']\n",
    "h_hat1"
   ]
  },
  {
   "cell_type": "code",
   "execution_count": 15,
   "metadata": {},
   "outputs": [
    {
     "data": {
      "image/png": "[encoded data removed]",
      "text/plain": [
       "<Figure size 864x504 with 1 Axes>"
      ]
     },
     "metadata": {
      "needs_background": "light"
     },
     "output_type": "display_data"
    }
   ],
   "source": [
    "cplt.barPlot(h_hat1)"
   ]
  },
  {
   "cell_type": "code",
   "execution_count": null,
   "metadata": {},
   "outputs": [],
   "source": []
  }
 ],
 "metadata": {
  "kernelspec": {
   "display_name": "Python 3 (ipykernel)",
   "language": "python",
   "name": "python3"
  },
  "language_info": {
   "codemirror_mode": {
    "name": "ipython",
    "version": 3
   },
   "file_extension": ".py",
   "mimetype": "text/x-python",
   "name": "python",
   "nbconvert_exporter": "python",
   "pygments_lexer": "ipython3",
   "version": "3.8.8"
  }
 },
 "nbformat": 4,
 "nbformat_minor": 2
}
