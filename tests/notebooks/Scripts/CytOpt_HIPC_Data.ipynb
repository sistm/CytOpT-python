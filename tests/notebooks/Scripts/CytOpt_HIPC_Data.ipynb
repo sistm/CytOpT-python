{
 "cells": [
  {
   "cell_type": "markdown",
   "metadata": {},
   "source": [
    "## CytOpt on the HIPC Data"
   ]
  },
  {
   "cell_type": "markdown",
   "metadata": {},
   "source": [
    "In this notebook, we apply our method ${\\tt CytOpt}$ on various datasets of the HIPC panel. From our numerical experiments, the computation time to get an estimate of the class proportions with the descent-ascent procedure is between 10 and 20 minutes. With the minmax swapping procedure, this computation time is between 1 and 3 minutes."
   ]
  },
  {
   "cell_type": "markdown",
   "metadata": {},
   "source": [
    "##### How to try ${\\tt CytOpt}$ on other HIPC data sets.\n",
    "\n",
    "An HIPC data set has the following structure :\n",
    "\n",
    "xx_y_values : Cytometry measurements \n",
    "\n",
    "xx_y_clust : Corresponding manual clustering\n",
    "\n",
    "xx labels the center where the data analysis was performed.\n",
    "-replace xx by W2 for Stanford .\n",
    "-replace xx by D54 for NHLBI.\n",
    "-replace xx by FTV for Yale.\n",
    "-replace xx by IU for UCLA.\n",
    "-replace xx by O0 for CIMR.\n",
    "-replace xx by pw for Baylor.\n",
    "-replace xx by pM for Miami.\n",
    "\n",
    "y labels the patient and the replicate of the biological sample.\n",
    "-replace y by 1 for patient 1 replicate A (except for Baylor this replicate is not available).\n",
    "-replace y by 2 for patient 1 replicate B.\n",
    "-replace y by 3 for patient 1 replicate C.\n",
    "-replace y by 4 for patient 2 replicate A.\n",
    "-replace y by 5 for patient 2 replicate B.\n",
    "-replace y by 6 for patient 2 replicate C.\n",
    "-replace y by 7 for patient 3 replicate A.\n",
    "-replace y by 8 for patient 3 replicate B.\n",
    "-replace y by 9 for patient 3 replicate C.\n"
   ]
  },
  {
   "cell_type": "markdown",
   "metadata": {},
   "source": [
    "##### import modules and functions"
   ]
  },
  {
   "cell_type": "code",
   "execution_count": 15,
   "metadata": {},
   "outputs": [],
   "source": [
    "import numpy as np\n",
    "import pandas as pd\n",
    "import matplotlib.pyplot as plt\n",
    "import seaborn as sns\n",
    "import time\n",
    "\n",
    "from CytOpT.CytOpt import CytOpT\n",
    "from CytOpT.plots import barPlot"
   ]
  },
  {
   "cell_type": "markdown",
   "metadata": {},
   "source": [
    "##### import data"
   ]
  },
  {
   "cell_type": "code",
   "execution_count": 2,
   "metadata": {},
   "outputs": [],
   "source": [
    "#Source Data\n",
    "\n",
    "Stanford1A_values = pd.read_csv('../../data/W2_1_values.csv',\n",
    "                                 usecols = np.arange(1,8))\n",
    "Stanford1A_clust = pd.read_csv('../../data/W2_1_clust.csv',\n",
    "                                usecols = [1])\n",
    "\n",
    "#Target Data\n",
    "\n",
    "Stanford3C_values = pd.read_csv('../../data/W2_9_values.csv',\n",
    "                                 usecols = np.arange(1,8))\n",
    "Stanford3C_clust = pd.read_csv('../../data/W2_9_clust.csv',\n",
    "                                usecols = [1])\n",
    "\n",
    "\n",
    "Miami3A_values = pd.read_csv('../../data/pM_7_values.csv', \n",
    "                             usecols = np.arange(1,8))\n",
    "Miami3A_clust = pd.read_csv('../../data/pM_7_clust.csv',\n",
    "                            usecols = [1])\n",
    "\n",
    "\n",
    "Ucla2B_values = pd.read_csv('../../data/IU_5_values.csv',\n",
    "                            usecols = np.arange(1,8))\n",
    "Ucla2B_clust = pd.read_csv('../../data/IU_5_clust.csv',\n",
    "                           usecols = [1])"
   ]
  },
  {
   "cell_type": "markdown",
   "metadata": {},
   "source": [
    "Preprocessing of the source data"
   ]
  },
  {
   "cell_type": "code",
   "execution_count": 3,
   "metadata": {},
   "outputs": [],
   "source": [
    "X_source = np.asarray(Stanford1A_values)\n",
    "Lab_source = np.asarray(Stanford1A_clust['x'])"
   ]
  },
  {
   "cell_type": "markdown",
   "metadata": {},
   "source": [
    "#### Target data : Stanford3C"
   ]
  },
  {
   "cell_type": "markdown",
   "metadata": {},
   "source": [
    "Preprocessing of the target data"
   ]
  },
  {
   "cell_type": "code",
   "execution_count": 4,
   "metadata": {},
   "outputs": [],
   "source": [
    "X_target = np.asarray(Stanford3C_values)\n",
    "Lab_target = np.asarray(Stanford3C_clust['x'])"
   ]
  },
  {
   "cell_type": "markdown",
   "metadata": {},
   "source": [
    "Computation of the benchmark class proportions"
   ]
  },
  {
   "cell_type": "code",
   "execution_count": 5,
   "metadata": {},
   "outputs": [
    {
     "data": {
      "text/plain": [
       "array([ 1,  1,  1, ..., 10, 10, 10])"
      ]
     },
     "execution_count": 5,
     "metadata": {},
     "output_type": "execute_result"
    }
   ],
   "source": [
    "h_true = np.zeros(10)\n",
    "for k in range(10):\n",
    "    h_true[k] = np.sum(Lab_target == k+1)/len(Lab_target)\n",
    "    \n",
    "Lab_target"
   ]
  },
  {
   "cell_type": "markdown",
   "metadata": {},
   "source": [
    "##### Descent-ascent procedure"
   ]
  },
  {
   "cell_type": "markdown",
   "metadata": {},
   "source": [
    "Setting of the parameters for the descent-ascent procedure."
   ]
  },
  {
   "cell_type": "code",
   "execution_count": 6,
   "metadata": {},
   "outputs": [],
   "source": [
    "n_it_grad = 5000\n",
    "n_it_sto = 10\n",
    "pas_grad = 10\n",
    "eps=0.0005\n",
    "monitoring=False"
   ]
  },
  {
   "cell_type": "code",
   "execution_count": 7,
   "metadata": {
    "scrolled": true
   },
   "outputs": [
    {
     "name": "stdout",
     "output_type": "stream",
     "text": [
      "\n",
      " Epsilon:  0.0005\n",
      "Iteration  0\n",
      "Current h_hat\n",
      "[0.1006581  0.10069125 0.09987998 0.10096784 0.09973581 0.0966727\n",
      " 0.10142513 0.10081892 0.09963884 0.09951144]\n",
      "Iteration  100\n",
      "Current h_hat\n",
      "[0.11322279 0.12825038 0.08976345 0.09717168 0.07281136 0.0248276\n",
      " 0.14751281 0.13403537 0.12413842 0.06826613]\n",
      "Iteration  200\n",
      "Current h_hat\n",
      "[0.1082027  0.12135326 0.08085257 0.09809979 0.06149206 0.01915391\n",
      " 0.17895676 0.14634354 0.12783416 0.05771126]\n",
      "Iteration  300\n",
      "Current h_hat\n",
      "[0.10392749 0.12047419 0.08226945 0.08730484 0.05411038 0.01516703\n",
      " 0.20975261 0.15313751 0.1266464  0.04721009]\n",
      "Iteration  400\n",
      "Current h_hat\n",
      "[0.10602872 0.11737694 0.07144826 0.07660172 0.05062809 0.01484326\n",
      " 0.24005802 0.15976654 0.11888866 0.0443598 ]\n",
      "Iteration  500\n",
      "Current h_hat\n",
      "[0.09640493 0.10710726 0.06931847 0.0752699  0.03930932 0.01238145\n",
      " 0.2770936  0.16720235 0.11911289 0.03679983]\n",
      "Iteration  600\n",
      "Current h_hat\n",
      "[0.08523862 0.09879854 0.05865927 0.07394295 0.03411431 0.01112744\n",
      " 0.3059748  0.18353608 0.11550188 0.03310611]\n",
      "Iteration  700\n",
      "Current h_hat\n",
      "[0.07637988 0.08785414 0.04981123 0.06413895 0.0294878  0.01015449\n",
      " 0.36665273 0.1763409  0.11074116 0.02843871]\n",
      "Iteration  800\n",
      "Current h_hat\n",
      "[0.07348522 0.08684375 0.0514516  0.0638251  0.02809281 0.0091384\n",
      " 0.35214887 0.18729691 0.12172928 0.02598806]\n",
      "Iteration  900\n",
      "Current h_hat\n",
      "[0.07439172 0.09187151 0.05489201 0.06641111 0.02854717 0.00925978\n",
      " 0.29447201 0.20980823 0.14503185 0.02531461]\n",
      "Iteration  1000\n",
      "Current h_hat\n",
      "[0.07235749 0.09142445 0.05586661 0.05993291 0.0276881  0.00902028\n",
      " 0.30255908 0.21509209 0.14263671 0.02342228]\n",
      "Iteration  1100\n",
      "Current h_hat\n",
      "[0.07331555 0.09077632 0.05367308 0.06175223 0.02643958 0.00893749\n",
      " 0.30803821 0.22934051 0.12410805 0.02361897]\n",
      "Iteration  1200\n",
      "Current h_hat\n",
      "[0.07069017 0.08629495 0.04940815 0.05876244 0.02406418 0.00850007\n",
      " 0.37680385 0.19524563 0.10750013 0.02273042]\n",
      "Iteration  1300\n",
      "Current h_hat\n",
      "[0.06839726 0.0870803  0.05054401 0.05982725 0.02427701 0.0084711\n",
      " 0.34847417 0.21755499 0.11328232 0.02209158]\n",
      "Iteration  1400\n",
      "Current h_hat\n",
      "[0.07205244 0.09426813 0.05322509 0.05803242 0.02391633 0.00839348\n",
      " 0.30350757 0.23933022 0.12562731 0.02164701]\n",
      "Iteration  1500\n",
      "Current h_hat\n",
      "[0.06698776 0.09087615 0.04897154 0.05258743 0.02276351 0.00796021\n",
      " 0.31261529 0.25019544 0.12787471 0.01916797]\n",
      "Iteration  1600\n",
      "Current h_hat\n",
      "[0.06325684 0.08678451 0.04736791 0.05053894 0.02146929 0.00746516\n",
      " 0.32036395 0.25984154 0.12427322 0.01863865]\n",
      "Iteration  1700\n",
      "Current h_hat\n",
      "[0.06383402 0.09297976 0.04906223 0.05009548 0.02015168 0.00719678\n",
      " 0.33014593 0.25739157 0.11115786 0.01798468]\n",
      "Iteration  1800\n",
      "Current h_hat\n",
      "[0.06214306 0.09269992 0.04673738 0.05173673 0.0201553  0.00701487\n",
      " 0.32637214 0.27279954 0.10316883 0.01717224]\n",
      "Iteration  1900\n",
      "Current h_hat\n",
      "[0.05696275 0.08848471 0.0462148  0.04685193 0.01922395 0.00658432\n",
      " 0.37311929 0.24289795 0.10357594 0.01608436]\n",
      "Iteration  2000\n",
      "Current h_hat\n",
      "[0.05646117 0.09082924 0.04595991 0.04766853 0.01862949 0.00668891\n",
      " 0.34314807 0.26287713 0.11179926 0.01593829]\n",
      "Iteration  2100\n",
      "Current h_hat\n",
      "[0.05360658 0.08573935 0.04500295 0.04776595 0.01848681 0.00624257\n",
      " 0.37855777 0.23902593 0.11049664 0.01507545]\n",
      "Iteration  2200\n",
      "Current h_hat\n",
      "[0.05254763 0.08941935 0.04480622 0.04763026 0.0180721  0.00598592\n",
      " 0.40532828 0.21779105 0.10352798 0.01489122]\n",
      "Iteration  2300\n",
      "Current h_hat\n",
      "[0.0536563  0.09217443 0.04616923 0.04918919 0.01805804 0.00643808\n",
      " 0.37379872 0.23106594 0.11403763 0.01541245]\n",
      "Iteration  2400\n",
      "Current h_hat\n",
      "[0.05410192 0.09489028 0.04530464 0.05148321 0.0193214  0.00639675\n",
      " 0.3637511  0.23168074 0.11708308 0.01598687]\n",
      "Iteration  2500\n",
      "Current h_hat\n",
      "[0.05121973 0.08716603 0.04420217 0.04857914 0.01805913 0.00600221\n",
      " 0.42232423 0.19720287 0.11048203 0.01476249]\n",
      "Iteration  2600\n",
      "Current h_hat\n",
      "[0.05555937 0.09312644 0.04845778 0.05447239 0.01939661 0.00608744\n",
      " 0.36828743 0.21702985 0.12200613 0.01557658]\n",
      "Iteration  2700\n",
      "Current h_hat\n",
      "[0.05536758 0.08877759 0.04762336 0.05436602 0.01886203 0.00596062\n",
      " 0.35166909 0.2428966  0.1189569  0.01552022]\n",
      "Iteration  2800\n",
      "Current h_hat\n",
      "[0.0561107  0.08793566 0.04751443 0.05291132 0.01922148 0.00601646\n",
      " 0.31303787 0.2607457  0.14047943 0.01602695]\n",
      "Iteration  2900\n",
      "Current h_hat\n",
      "[0.05548098 0.08637733 0.04877564 0.0515047  0.01910784 0.0059579\n",
      " 0.34217257 0.25142361 0.12309467 0.01610476]\n",
      "Iteration  3000\n",
      "Current h_hat\n",
      "[0.05859668 0.09119638 0.05109199 0.0541632  0.01877864 0.00589911\n",
      " 0.33217162 0.240606   0.13099374 0.01650264]\n",
      "Iteration  3100\n",
      "Current h_hat\n",
      "[0.06111561 0.09741561 0.05277365 0.05458454 0.01955918 0.00578088\n",
      " 0.3266429  0.2274785  0.13786095 0.01678818]\n",
      "Iteration  3200\n",
      "Current h_hat\n",
      "[0.0604934  0.09220723 0.0555015  0.05721413 0.0180371  0.00550225\n",
      " 0.34426652 0.21388499 0.13549499 0.01739788]\n",
      "Iteration  3300\n",
      "Current h_hat\n",
      "[0.05887445 0.09061737 0.05501489 0.05342446 0.01746342 0.00536623\n",
      " 0.36078345 0.2154851  0.12583007 0.01714057]\n",
      "Iteration  3400\n",
      "Current h_hat\n",
      "[0.05706615 0.090469   0.05470257 0.055635   0.01703229 0.0052362\n",
      " 0.38585748 0.2090947  0.10830348 0.01660312]\n",
      "Iteration  3500\n",
      "Current h_hat\n",
      "[0.05845132 0.09181248 0.05656421 0.05684969 0.01789777 0.00527444\n",
      " 0.36812066 0.22894042 0.10085214 0.01523687]\n",
      "Iteration  3600\n",
      "Current h_hat\n",
      "[0.05812742 0.08870223 0.05529324 0.05933999 0.01783783 0.00531924\n",
      " 0.3786768  0.21680712 0.10452032 0.01537581]\n",
      "Iteration  3700\n",
      "Current h_hat\n",
      "[0.05808388 0.08877473 0.05307199 0.05975257 0.01828121 0.00512821\n",
      " 0.36879327 0.22535729 0.10696292 0.01579393]\n",
      "Iteration  3800\n",
      "Current h_hat\n",
      "[0.05705768 0.09007686 0.04944056 0.05550515 0.01770147 0.0051239\n",
      " 0.36713828 0.23490594 0.10774553 0.01530464]\n",
      "Iteration  3900\n",
      "Current h_hat\n",
      "[0.05884031 0.09459203 0.05304169 0.05499578 0.01825119 0.00510204\n",
      " 0.34923784 0.2469838  0.10329007 0.01566524]\n",
      "Iteration  4000\n",
      "Current h_hat\n",
      "[0.05768609 0.09763504 0.05188003 0.05453801 0.01788986 0.00530484\n",
      " 0.33836596 0.24415043 0.11630972 0.01624003]\n",
      "Iteration  4100\n",
      "Current h_hat\n",
      "[0.05661384 0.09844063 0.04765932 0.05537324 0.01701244 0.00536466\n",
      " 0.3305748  0.23491083 0.13792662 0.01612362]\n",
      "Iteration  4200\n",
      "Current h_hat\n",
      "[0.05446196 0.09994384 0.0479936  0.05376922 0.01660723 0.005364\n",
      " 0.33242355 0.24570778 0.12748399 0.01624481]\n",
      "Iteration  4300\n",
      "Current h_hat\n",
      "[0.05315413 0.09393055 0.04710296 0.0515734  0.01536579 0.00515164\n",
      " 0.35645454 0.23707073 0.12412624 0.01607002]\n",
      "Iteration  4400\n",
      "Current h_hat\n",
      "[0.05299408 0.08802328 0.04490677 0.04963503 0.01506626 0.00506452\n",
      " 0.37461815 0.22900942 0.12467627 0.01600622]\n",
      "Iteration  4500\n",
      "Current h_hat\n",
      "[0.0544507  0.09358675 0.04720355 0.05273067 0.01484569 0.00524914\n",
      " 0.32900951 0.23813562 0.14870243 0.01608593]\n",
      "Iteration  4600\n",
      "Current h_hat\n",
      "[0.05418164 0.09400624 0.04899097 0.05145102 0.0145694  0.0052033\n",
      " 0.32814961 0.24355398 0.14420565 0.01568818]\n",
      "Iteration  4700\n",
      "Current h_hat\n",
      "[0.05415325 0.09675209 0.04968647 0.05230306 0.01456338 0.00525397\n",
      " 0.31534596 0.25077422 0.14575759 0.01541   ]\n",
      "Iteration  4800\n",
      "Current h_hat\n",
      "[0.04942368 0.09263557 0.04395624 0.04877747 0.01398147 0.00487487\n",
      " 0.34447466 0.25593376 0.13164596 0.01429632]\n",
      "Iteration  4900\n",
      "Current h_hat\n",
      "[0.05062914 0.09796277 0.04651428 0.05271167 0.01416096 0.00495937\n",
      " 0.34295125 0.22323855 0.1521484  0.01472361]\n",
      "Done ( 465.17962646484375 s)\n",
      "\n"
     ]
    }
   ],
   "source": [
    "t0 = time.time()\n",
    "h_hat1 = CytOpT(X_source, X_target, Lab_source,thetaTrue=h_true,\n",
    "                      method=\"desasc\",nItGrad=n_it_grad,nItSto=n_it_sto,stepGrad=pas_grad,eps=eps,\n",
    "                      monitoring=monitoring)\n",
    "elapsed_time = time.time() - t0"
   ]
  },
  {
   "cell_type": "code",
   "execution_count": 8,
   "metadata": {},
   "outputs": [
    {
     "name": "stdout",
     "output_type": "stream",
     "text": [
      "Elapsed_time : 7.753189392884573 mins\n"
     ]
    }
   ],
   "source": [
    "print('Elapsed_time :', elapsed_time/60, 'mins')"
   ]
  },
  {
   "cell_type": "code",
   "execution_count": 9,
   "metadata": {},
   "outputs": [
    {
     "data": {
      "text/html": [
       "<div>\n",
       "<style scoped>\n",
       "    .dataframe tbody tr th:only-of-type {\n",
       "        vertical-align: middle;\n",
       "    }\n",
       "\n",
       "    .dataframe tbody tr th {\n",
       "        vertical-align: top;\n",
       "    }\n",
       "\n",
       "    .dataframe thead th {\n",
       "        text-align: right;\n",
       "    }\n",
       "</style>\n",
       "<table border=\"1\" class=\"dataframe\">\n",
       "  <thead>\n",
       "    <tr style=\"text-align: right;\">\n",
       "      <th></th>\n",
       "      <th>GoldStandard</th>\n",
       "      <th>desasc</th>\n",
       "    </tr>\n",
       "  </thead>\n",
       "  <tbody>\n",
       "    <tr>\n",
       "      <th>0</th>\n",
       "      <td>0.016490</td>\n",
       "      <td>0.048246</td>\n",
       "    </tr>\n",
       "    <tr>\n",
       "      <th>1</th>\n",
       "      <td>0.130506</td>\n",
       "      <td>0.097345</td>\n",
       "    </tr>\n",
       "    <tr>\n",
       "      <th>2</th>\n",
       "      <td>0.049117</td>\n",
       "      <td>0.042922</td>\n",
       "    </tr>\n",
       "    <tr>\n",
       "      <th>3</th>\n",
       "      <td>0.057538</td>\n",
       "      <td>0.047511</td>\n",
       "    </tr>\n",
       "    <tr>\n",
       "      <th>4</th>\n",
       "      <td>0.009776</td>\n",
       "      <td>0.013345</td>\n",
       "    </tr>\n",
       "    <tr>\n",
       "      <th>5</th>\n",
       "      <td>0.003239</td>\n",
       "      <td>0.004704</td>\n",
       "    </tr>\n",
       "    <tr>\n",
       "      <th>6</th>\n",
       "      <td>0.335159</td>\n",
       "      <td>0.361827</td>\n",
       "    </tr>\n",
       "    <tr>\n",
       "      <th>7</th>\n",
       "      <td>0.270289</td>\n",
       "      <td>0.227552</td>\n",
       "    </tr>\n",
       "    <tr>\n",
       "      <th>8</th>\n",
       "      <td>0.106596</td>\n",
       "      <td>0.142473</td>\n",
       "    </tr>\n",
       "    <tr>\n",
       "      <th>9</th>\n",
       "      <td>0.021290</td>\n",
       "      <td>0.014074</td>\n",
       "    </tr>\n",
       "  </tbody>\n",
       "</table>\n",
       "</div>"
      ],
      "text/plain": [
       "   GoldStandard    desasc\n",
       "0      0.016490  0.048246\n",
       "1      0.130506  0.097345\n",
       "2      0.049117  0.042922\n",
       "3      0.057538  0.047511\n",
       "4      0.009776  0.013345\n",
       "5      0.003239  0.004704\n",
       "6      0.335159  0.361827\n",
       "7      0.270289  0.227552\n",
       "8      0.106596  0.142473\n",
       "9      0.021290  0.014074"
      ]
     },
     "execution_count": 9,
     "metadata": {},
     "output_type": "execute_result"
    }
   ],
   "source": [
    "h_hat1 = h_hat1['proportions']\n",
    "h_hat1"
   ]
  },
  {
   "cell_type": "markdown",
   "metadata": {},
   "source": [
    "##### Minmax swapping procedure"
   ]
  },
  {
   "cell_type": "markdown",
   "metadata": {},
   "source": [
    "parameters setting for the second procedure"
   ]
  },
  {
   "cell_type": "code",
   "execution_count": 10,
   "metadata": {},
   "outputs": [],
   "source": [
    "lbd = 0.0001\n",
    "eps_two = 0.0001\n",
    "n_iter = 5000\n",
    "step_size = 5\n",
    "power = 0.99"
   ]
  },
  {
   "cell_type": "code",
   "execution_count": 11,
   "metadata": {},
   "outputs": [
    {
     "name": "stdout",
     "output_type": "stream",
     "text": [
      "Done ( 26.016937255859375 s)\n",
      "\n"
     ]
    }
   ],
   "source": [
    "t0 = time.time()\n",
    "results = CytOpT(X_source, X_target, Lab_source, thetaTrue=h_true,\n",
    "                             method=\"minmax\",lbd=lbd,eps=eps_two,nIter=n_iter,step=step_size,power=power)\n",
    "elapsed_time = time.time() - t0"
   ]
  },
  {
   "cell_type": "code",
   "execution_count": 12,
   "metadata": {},
   "outputs": [
    {
     "name": "stdout",
     "output_type": "stream",
     "text": [
      "Elapsed time :  0.43397271633148193 Mins\n"
     ]
    }
   ],
   "source": [
    "print('Elapsed time : ',elapsed_time/60, 'Mins')"
   ]
  },
  {
   "cell_type": "code",
   "execution_count": 13,
   "metadata": {},
   "outputs": [
    {
     "data": {
      "text/html": [
       "<div>\n",
       "<style scoped>\n",
       "    .dataframe tbody tr th:only-of-type {\n",
       "        vertical-align: middle;\n",
       "    }\n",
       "\n",
       "    .dataframe tbody tr th {\n",
       "        vertical-align: top;\n",
       "    }\n",
       "\n",
       "    .dataframe thead th {\n",
       "        text-align: right;\n",
       "    }\n",
       "</style>\n",
       "<table border=\"1\" class=\"dataframe\">\n",
       "  <thead>\n",
       "    <tr style=\"text-align: right;\">\n",
       "      <th></th>\n",
       "      <th>GoldStandard</th>\n",
       "      <th>minmax</th>\n",
       "    </tr>\n",
       "  </thead>\n",
       "  <tbody>\n",
       "    <tr>\n",
       "      <th>0</th>\n",
       "      <td>0.016490</td>\n",
       "      <td>0.028788</td>\n",
       "    </tr>\n",
       "    <tr>\n",
       "      <th>1</th>\n",
       "      <td>0.130506</td>\n",
       "      <td>0.141992</td>\n",
       "    </tr>\n",
       "    <tr>\n",
       "      <th>2</th>\n",
       "      <td>0.049117</td>\n",
       "      <td>0.059068</td>\n",
       "    </tr>\n",
       "    <tr>\n",
       "      <th>3</th>\n",
       "      <td>0.057538</td>\n",
       "      <td>0.074380</td>\n",
       "    </tr>\n",
       "    <tr>\n",
       "      <th>4</th>\n",
       "      <td>0.009776</td>\n",
       "      <td>0.006498</td>\n",
       "    </tr>\n",
       "    <tr>\n",
       "      <th>5</th>\n",
       "      <td>0.003239</td>\n",
       "      <td>0.005831</td>\n",
       "    </tr>\n",
       "    <tr>\n",
       "      <th>6</th>\n",
       "      <td>0.335159</td>\n",
       "      <td>0.349996</td>\n",
       "    </tr>\n",
       "    <tr>\n",
       "      <th>7</th>\n",
       "      <td>0.270289</td>\n",
       "      <td>0.256708</td>\n",
       "    </tr>\n",
       "    <tr>\n",
       "      <th>8</th>\n",
       "      <td>0.106596</td>\n",
       "      <td>0.074504</td>\n",
       "    </tr>\n",
       "    <tr>\n",
       "      <th>9</th>\n",
       "      <td>0.021290</td>\n",
       "      <td>0.002234</td>\n",
       "    </tr>\n",
       "  </tbody>\n",
       "</table>\n",
       "</div>"
      ],
      "text/plain": [
       "   GoldStandard    minmax\n",
       "0      0.016490  0.028788\n",
       "1      0.130506  0.141992\n",
       "2      0.049117  0.059068\n",
       "3      0.057538  0.074380\n",
       "4      0.009776  0.006498\n",
       "5      0.003239  0.005831\n",
       "6      0.335159  0.349996\n",
       "7      0.270289  0.256708\n",
       "8      0.106596  0.074504\n",
       "9      0.021290  0.002234"
      ]
     },
     "execution_count": 13,
     "metadata": {},
     "output_type": "execute_result"
    }
   ],
   "source": [
    "h_hat2 = results['proportions']\n",
    "h_hat2"
   ]
  },
  {
   "cell_type": "code",
   "execution_count": 14,
   "metadata": {},
   "outputs": [
    {
     "data": {
      "text/html": [
       "<div>\n",
       "<style scoped>\n",
       "    .dataframe tbody tr th:only-of-type {\n",
       "        vertical-align: middle;\n",
       "    }\n",
       "\n",
       "    .dataframe tbody tr th {\n",
       "        vertical-align: top;\n",
       "    }\n",
       "\n",
       "    .dataframe thead th {\n",
       "        text-align: right;\n",
       "    }\n",
       "</style>\n",
       "<table border=\"1\" class=\"dataframe\">\n",
       "  <thead>\n",
       "    <tr style=\"text-align: right;\">\n",
       "      <th></th>\n",
       "      <th>GoldStandard</th>\n",
       "      <th>desasc</th>\n",
       "      <th>minmax</th>\n",
       "    </tr>\n",
       "  </thead>\n",
       "  <tbody>\n",
       "    <tr>\n",
       "      <th>0</th>\n",
       "      <td>0.016490</td>\n",
       "      <td>0.048246</td>\n",
       "      <td>0.028788</td>\n",
       "    </tr>\n",
       "    <tr>\n",
       "      <th>1</th>\n",
       "      <td>0.130506</td>\n",
       "      <td>0.097345</td>\n",
       "      <td>0.141992</td>\n",
       "    </tr>\n",
       "    <tr>\n",
       "      <th>2</th>\n",
       "      <td>0.049117</td>\n",
       "      <td>0.042922</td>\n",
       "      <td>0.059068</td>\n",
       "    </tr>\n",
       "    <tr>\n",
       "      <th>3</th>\n",
       "      <td>0.057538</td>\n",
       "      <td>0.047511</td>\n",
       "      <td>0.074380</td>\n",
       "    </tr>\n",
       "    <tr>\n",
       "      <th>4</th>\n",
       "      <td>0.009776</td>\n",
       "      <td>0.013345</td>\n",
       "      <td>0.006498</td>\n",
       "    </tr>\n",
       "    <tr>\n",
       "      <th>5</th>\n",
       "      <td>0.003239</td>\n",
       "      <td>0.004704</td>\n",
       "      <td>0.005831</td>\n",
       "    </tr>\n",
       "    <tr>\n",
       "      <th>6</th>\n",
       "      <td>0.335159</td>\n",
       "      <td>0.361827</td>\n",
       "      <td>0.349996</td>\n",
       "    </tr>\n",
       "    <tr>\n",
       "      <th>7</th>\n",
       "      <td>0.270289</td>\n",
       "      <td>0.227552</td>\n",
       "      <td>0.256708</td>\n",
       "    </tr>\n",
       "    <tr>\n",
       "      <th>8</th>\n",
       "      <td>0.106596</td>\n",
       "      <td>0.142473</td>\n",
       "      <td>0.074504</td>\n",
       "    </tr>\n",
       "    <tr>\n",
       "      <th>9</th>\n",
       "      <td>0.021290</td>\n",
       "      <td>0.014074</td>\n",
       "      <td>0.002234</td>\n",
       "    </tr>\n",
       "  </tbody>\n",
       "</table>\n",
       "</div>"
      ],
      "text/plain": [
       "   GoldStandard    desasc    minmax\n",
       "0      0.016490  0.048246  0.028788\n",
       "1      0.130506  0.097345  0.141992\n",
       "2      0.049117  0.042922  0.059068\n",
       "3      0.057538  0.047511  0.074380\n",
       "4      0.009776  0.013345  0.006498\n",
       "5      0.003239  0.004704  0.005831\n",
       "6      0.335159  0.361827  0.349996\n",
       "7      0.270289  0.227552  0.256708\n",
       "8      0.106596  0.142473  0.074504\n",
       "9      0.021290  0.014074  0.002234"
      ]
     },
     "execution_count": 14,
     "metadata": {},
     "output_type": "execute_result"
    }
   ],
   "source": [
    "h_hat1['minmax'] = h_hat2['minmax']\n",
    "h_hat1"
   ]
  },
  {
   "cell_type": "code",
   "execution_count": 16,
   "metadata": {},
   "outputs": [
    {
     "data": {
      "image/png": "[encoded data removed]",
      "text/plain": [
       "<Figure size 864x504 with 1 Axes>"
      ]
     },
     "metadata": {
      "needs_background": "light"
     },
     "output_type": "display_data"
    }
   ],
   "source": [
    "barPlot(h_hat1)"
   ]
  }
 ],
 "metadata": {
  "kernelspec": {
   "display_name": "Python 3 (ipykernel)",
   "language": "python",
   "name": "python3"
  },
  "language_info": {
   "codemirror_mode": {
    "name": "ipython",
    "version": 3
   },
   "file_extension": ".py",
   "mimetype": "text/x-python",
   "name": "python",
   "nbconvert_exporter": "python",
   "pygments_lexer": "ipython3",
   "version": "3.8.8"
  }
 },
 "nbformat": 4,
 "nbformat_minor": 2
}
