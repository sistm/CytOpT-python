{
 "cells": [
  {
   "cell_type": "markdown",
   "metadata": {},
   "source": [
    "## Stanford 1A toward all the cytometry data sets of the HIPC database"
   ]
  },
  {
   "cell_type": "markdown",
   "metadata": {},
   "source": [
    "This notebook aims at presenting ${\\tt CytOpt}$ results when the Stanford1A data set is used as a source data set and the rest of the HIPC database acts as target data sets. In this notebook we simply display the results using the ${\\tt CytOpt}$ results stored in the file `Res_Estimation_Stan1A.txt`. One can reproduce these results using the notebook `CytOpt_More_Results`. We inform the reader that estimating the class proportions for the 61 data sets could last up to 24 hours."
   ]
  },
  {
   "cell_type": "markdown",
   "metadata": {},
   "source": [
    "##### Module and function imports"
   ]
  },
  {
   "cell_type": "code",
   "execution_count": 1,
   "metadata": {},
   "outputs": [],
   "source": [
    "import pandas as pd\n",
    "import numpy as np\n",
    "from CytOpT import CytOpt_plot"
   ]
  },
  {
   "cell_type": "markdown",
   "metadata": {},
   "source": [
    "##### CytOpt results import"
   ]
  },
  {
   "cell_type": "code",
   "execution_count": 2,
   "metadata": {},
   "outputs": [],
   "source": [
    "#CytOpt estimation\n",
    "Estimate_Prop = pd.read_csv('../Data/Results_Cytopt/Res_Estimation_Stan1A.txt',\n",
    "                            index_col=0)\n",
    "#Benchmark estimation\n",
    "True_Prop = pd.read_csv('../Data/Results_Cytopt/True_proportion_Stan1A.txt',\n",
    "                        index_col=0)"
   ]
  },
  {
   "cell_type": "markdown",
   "metadata": {},
   "source": [
    "The data set Baylor1A is missing from our database. For the sake of simplicity, we used the data set Baylor1B instead. Therefore the results corresponding to the Baylor1B data set are duplicated. That is why we drop the Baylor1A results which correspond in fact to the Baylor1B data."
   ]
  },
  {
   "cell_type": "code",
   "execution_count": 3,
   "metadata": {},
   "outputs": [],
   "source": [
    "True_Prop = True_Prop.drop(['Baylor1A'])\n",
    "Estimate_Prop = Estimate_Prop.drop(['Baylor1A'])"
   ]
  },
  {
   "cell_type": "markdown",
   "metadata": {},
   "source": [
    "##### Benchmark proportions "
   ]
  },
  {
   "cell_type": "code",
   "execution_count": 4,
   "metadata": {},
   "outputs": [
    {
     "data": {
      "text/html": [
       "<div>\n",
       "<style scoped>\n",
       "    .dataframe tbody tr th:only-of-type {\n",
       "        vertical-align: middle;\n",
       "    }\n",
       "\n",
       "    .dataframe tbody tr th {\n",
       "        vertical-align: top;\n",
       "    }\n",
       "\n",
       "    .dataframe thead th {\n",
       "        text-align: right;\n",
       "    }\n",
       "</style>\n",
       "<table border=\"1\" class=\"dataframe\">\n",
       "  <thead>\n",
       "    <tr style=\"text-align: right;\">\n",
       "      <th></th>\n",
       "      <th>Classe 1</th>\n",
       "      <th>Classe 2</th>\n",
       "      <th>Classe 3</th>\n",
       "      <th>Classe 4</th>\n",
       "      <th>Classe 5</th>\n",
       "      <th>Classe 6</th>\n",
       "      <th>Classe 7</th>\n",
       "      <th>Classe 8</th>\n",
       "      <th>Classe 9</th>\n",
       "      <th>Classe 10</th>\n",
       "    </tr>\n",
       "  </thead>\n",
       "  <tbody>\n",
       "    <tr>\n",
       "      <th>Yale1A</th>\n",
       "      <td>0.170959</td>\n",
       "      <td>0.187260</td>\n",
       "      <td>0.059817</td>\n",
       "      <td>0.083653</td>\n",
       "      <td>0.007900</td>\n",
       "      <td>0.000594</td>\n",
       "      <td>0.169863</td>\n",
       "      <td>0.228904</td>\n",
       "      <td>0.076621</td>\n",
       "      <td>0.014429</td>\n",
       "    </tr>\n",
       "    <tr>\n",
       "      <th>Ucla1A</th>\n",
       "      <td>0.162235</td>\n",
       "      <td>0.169979</td>\n",
       "      <td>0.085129</td>\n",
       "      <td>0.128977</td>\n",
       "      <td>0.017632</td>\n",
       "      <td>0.024629</td>\n",
       "      <td>0.180334</td>\n",
       "      <td>0.168346</td>\n",
       "      <td>0.052430</td>\n",
       "      <td>0.010309</td>\n",
       "    </tr>\n",
       "    <tr>\n",
       "      <th>Nhlbi1A</th>\n",
       "      <td>0.158828</td>\n",
       "      <td>0.198074</td>\n",
       "      <td>0.061755</td>\n",
       "      <td>0.106705</td>\n",
       "      <td>0.008710</td>\n",
       "      <td>0.001332</td>\n",
       "      <td>0.183523</td>\n",
       "      <td>0.231069</td>\n",
       "      <td>0.038768</td>\n",
       "      <td>0.011237</td>\n",
       "    </tr>\n",
       "    <tr>\n",
       "      <th>Cimr1A</th>\n",
       "      <td>0.162398</td>\n",
       "      <td>0.188765</td>\n",
       "      <td>0.026815</td>\n",
       "      <td>0.139418</td>\n",
       "      <td>0.006345</td>\n",
       "      <td>0.001739</td>\n",
       "      <td>0.224740</td>\n",
       "      <td>0.211332</td>\n",
       "      <td>0.031046</td>\n",
       "      <td>0.007403</td>\n",
       "    </tr>\n",
       "    <tr>\n",
       "      <th>Miami1A</th>\n",
       "      <td>0.014783</td>\n",
       "      <td>0.320575</td>\n",
       "      <td>0.115224</td>\n",
       "      <td>0.076835</td>\n",
       "      <td>0.010600</td>\n",
       "      <td>0.000630</td>\n",
       "      <td>0.153670</td>\n",
       "      <td>0.208617</td>\n",
       "      <td>0.081304</td>\n",
       "      <td>0.017762</td>\n",
       "    </tr>\n",
       "  </tbody>\n",
       "</table>\n",
       "</div>"
      ],
      "text/plain": [
       "         Classe 1  Classe 2  Classe 3  Classe 4  Classe 5  Classe 6  Classe 7  \\\n",
       "Yale1A   0.170959  0.187260  0.059817  0.083653  0.007900  0.000594  0.169863   \n",
       "Ucla1A   0.162235  0.169979  0.085129  0.128977  0.017632  0.024629  0.180334   \n",
       "Nhlbi1A  0.158828  0.198074  0.061755  0.106705  0.008710  0.001332  0.183523   \n",
       "Cimr1A   0.162398  0.188765  0.026815  0.139418  0.006345  0.001739  0.224740   \n",
       "Miami1A  0.014783  0.320575  0.115224  0.076835  0.010600  0.000630  0.153670   \n",
       "\n",
       "         Classe 8  Classe 9  Classe 10  \n",
       "Yale1A   0.228904  0.076621   0.014429  \n",
       "Ucla1A   0.168346  0.052430   0.010309  \n",
       "Nhlbi1A  0.231069  0.038768   0.011237  \n",
       "Cimr1A   0.211332  0.031046   0.007403  \n",
       "Miami1A  0.208617  0.081304   0.017762  "
      ]
     },
     "execution_count": 4,
     "metadata": {},
     "output_type": "execute_result"
    }
   ],
   "source": [
    "True_Prop.head()"
   ]
  },
  {
   "cell_type": "markdown",
   "metadata": {},
   "source": [
    "##### Estimated proportions"
   ]
  },
  {
   "cell_type": "code",
   "execution_count": 5,
   "metadata": {
    "scrolled": true
   },
   "outputs": [
    {
     "data": {
      "text/html": [
       "<div>\n",
       "<style scoped>\n",
       "    .dataframe tbody tr th:only-of-type {\n",
       "        vertical-align: middle;\n",
       "    }\n",
       "\n",
       "    .dataframe tbody tr th {\n",
       "        vertical-align: top;\n",
       "    }\n",
       "\n",
       "    .dataframe thead th {\n",
       "        text-align: right;\n",
       "    }\n",
       "</style>\n",
       "<table border=\"1\" class=\"dataframe\">\n",
       "  <thead>\n",
       "    <tr style=\"text-align: right;\">\n",
       "      <th></th>\n",
       "      <th>Classe 1</th>\n",
       "      <th>Classe 2</th>\n",
       "      <th>Classe 3</th>\n",
       "      <th>Classe 4</th>\n",
       "      <th>Classe 5</th>\n",
       "      <th>Classe 6</th>\n",
       "      <th>Classe 7</th>\n",
       "      <th>Classe 8</th>\n",
       "      <th>Classe 9</th>\n",
       "      <th>Classe 10</th>\n",
       "    </tr>\n",
       "  </thead>\n",
       "  <tbody>\n",
       "    <tr>\n",
       "      <th>Yale1A</th>\n",
       "      <td>0.137202</td>\n",
       "      <td>0.239534</td>\n",
       "      <td>0.039231</td>\n",
       "      <td>0.080462</td>\n",
       "      <td>0.012508</td>\n",
       "      <td>0.003061</td>\n",
       "      <td>0.200852</td>\n",
       "      <td>0.191739</td>\n",
       "      <td>0.081544</td>\n",
       "      <td>0.013866</td>\n",
       "    </tr>\n",
       "    <tr>\n",
       "      <th>Ucla1A</th>\n",
       "      <td>0.254264</td>\n",
       "      <td>0.140054</td>\n",
       "      <td>0.053815</td>\n",
       "      <td>0.106684</td>\n",
       "      <td>0.021790</td>\n",
       "      <td>0.003222</td>\n",
       "      <td>0.148933</td>\n",
       "      <td>0.197308</td>\n",
       "      <td>0.060058</td>\n",
       "      <td>0.013873</td>\n",
       "    </tr>\n",
       "    <tr>\n",
       "      <th>Nhlbi1A</th>\n",
       "      <td>0.238419</td>\n",
       "      <td>0.160328</td>\n",
       "      <td>0.031940</td>\n",
       "      <td>0.096538</td>\n",
       "      <td>0.019145</td>\n",
       "      <td>0.002834</td>\n",
       "      <td>0.178759</td>\n",
       "      <td>0.166752</td>\n",
       "      <td>0.080009</td>\n",
       "      <td>0.025275</td>\n",
       "    </tr>\n",
       "    <tr>\n",
       "      <th>Cimr1A</th>\n",
       "      <td>0.184029</td>\n",
       "      <td>0.145849</td>\n",
       "      <td>0.049016</td>\n",
       "      <td>0.102554</td>\n",
       "      <td>0.017919</td>\n",
       "      <td>0.002251</td>\n",
       "      <td>0.195077</td>\n",
       "      <td>0.178034</td>\n",
       "      <td>0.088345</td>\n",
       "      <td>0.036926</td>\n",
       "    </tr>\n",
       "    <tr>\n",
       "      <th>Miami1A</th>\n",
       "      <td>0.051827</td>\n",
       "      <td>0.333219</td>\n",
       "      <td>0.095676</td>\n",
       "      <td>0.054683</td>\n",
       "      <td>0.034330</td>\n",
       "      <td>0.003687</td>\n",
       "      <td>0.129869</td>\n",
       "      <td>0.218720</td>\n",
       "      <td>0.050773</td>\n",
       "      <td>0.027216</td>\n",
       "    </tr>\n",
       "  </tbody>\n",
       "</table>\n",
       "</div>"
      ],
      "text/plain": [
       "         Classe 1  Classe 2  Classe 3  Classe 4  Classe 5  Classe 6  Classe 7  \\\n",
       "Yale1A   0.137202  0.239534  0.039231  0.080462  0.012508  0.003061  0.200852   \n",
       "Ucla1A   0.254264  0.140054  0.053815  0.106684  0.021790  0.003222  0.148933   \n",
       "Nhlbi1A  0.238419  0.160328  0.031940  0.096538  0.019145  0.002834  0.178759   \n",
       "Cimr1A   0.184029  0.145849  0.049016  0.102554  0.017919  0.002251  0.195077   \n",
       "Miami1A  0.051827  0.333219  0.095676  0.054683  0.034330  0.003687  0.129869   \n",
       "\n",
       "         Classe 8  Classe 9  Classe 10  \n",
       "Yale1A   0.191739  0.081544   0.013866  \n",
       "Ucla1A   0.197308  0.060058   0.013873  \n",
       "Nhlbi1A  0.166752  0.080009   0.025275  \n",
       "Cimr1A   0.178034  0.088345   0.036926  \n",
       "Miami1A  0.218720  0.050773   0.027216  "
      ]
     },
     "execution_count": 5,
     "metadata": {},
     "output_type": "execute_result"
    }
   ],
   "source": [
    "Estimate_Prop.head()"
   ]
  },
  {
   "cell_type": "code",
   "execution_count": 6,
   "metadata": {},
   "outputs": [],
   "source": [
    "Estimate_Prop = np.asarray(Estimate_Prop)\n",
    "True_Prop = np.asarray(True_Prop)"
   ]
  },
  {
   "cell_type": "markdown",
   "metadata": {},
   "source": [
    "##### Computation of the difference and the mean between ${\\tt CytOpt}$ estimation and benchmark estimation"
   ]
  },
  {
   "cell_type": "code",
   "execution_count": 7,
   "metadata": {},
   "outputs": [],
   "source": [
    "Diff_prop = True_Prop.ravel() - Estimate_Prop.ravel()\n",
    "Mean_prop = (True_Prop.ravel() + Estimate_Prop.ravel())/2"
   ]
  },
  {
   "cell_type": "markdown",
   "metadata": {},
   "source": [
    "#### Percentage of classes where the estimation error is below 5% and 10%"
   ]
  },
  {
   "cell_type": "code",
   "execution_count": 8,
   "metadata": {},
   "outputs": [
    {
     "name": "stdout",
     "output_type": "stream",
     "text": [
      "Percentage of classes where the estimation error is below 10%\n",
      "99.672131147541\n",
      "Percentage of classes where the estimation error is below 5%\n",
      "93.60655737704919\n"
     ]
    }
   ],
   "source": [
    "print('Percentage of classes where the estimation error is below 10%')\n",
    "print(np.sum(abs(Diff_prop) < 0.1)/len(Diff_prop) * 100)\n",
    "print('Percentage of classes where the estimation error is below 5%')\n",
    "print(np.sum(abs(Diff_prop) < 0.05)/len(Diff_prop) * 100)"
   ]
  },
  {
   "cell_type": "markdown",
   "metadata": {},
   "source": [
    "##### Building of the dataframe to display the bland Altman bellow"
   ]
  },
  {
   "cell_type": "code",
   "execution_count": 9,
   "metadata": {},
   "outputs": [],
   "source": [
    "Classes = np.tile(np.arange(1,11), 61)\n",
    "Centre_1 = np.repeat(['Yale', 'UCLA', 'NHLBI', 'CIMR', 'Miami'], 10)\n",
    "Centre_2 = np.repeat(['Standford', 'Yale', 'UCLA', 'NHLBI', 'CIMR', 'Baylor', 'Miami'], 10)\n",
    "Centre = np.hstack((Centre_1, Centre_2, Centre_2, Centre_2,\n",
    "                    Centre_2, Centre_2, Centre_2, Centre_2, Centre_2))\n",
    "\n",
    "Patient1A = np.repeat(1,50)\n",
    "Patient2 = np.repeat(2,70)\n",
    "Patient3 = np.repeat(3,70)\n",
    "Patient1 = np.repeat(1,70)\n",
    "\n",
    "Patient = np.hstack((Patient1A, Patient2, Patient3, \n",
    "                     Patient1, Patient2, Patient3,\n",
    "                     Patient1, Patient2, Patient3))\n",
    "\n",
    "Dico_res = {'h_true' : True_Prop.ravel(), 'h_hat' : Estimate_Prop.ravel(),\n",
    "            'Diff' : Diff_prop, 'Mean' : Mean_prop, 'Classe' : Classes,\n",
    "           'Center' : Centre, 'Patient' : Patient}\n",
    "df_res_Cytopt = pd.DataFrame(Dico_res)"
   ]
  },
  {
   "cell_type": "code",
   "execution_count": 10,
   "metadata": {},
   "outputs": [],
   "source": [
    "df_res_Cytopt['Classe'] = df_res_Cytopt['Classe'].astype('object')"
   ]
  },
  {
   "cell_type": "markdown",
   "metadata": {},
   "source": [
    "#### Computation of the standard deviation for the vector $(p_l-\\hat{p_l})_{l \\in L}$"
   ]
  },
  {
   "cell_type": "code",
   "execution_count": 11,
   "metadata": {},
   "outputs": [
    {
     "name": "stdout",
     "output_type": "stream",
     "text": [
      "Standard deviation: 0.025754625488557902\n"
     ]
    }
   ],
   "source": [
    "sd_diff = np.std(Diff_prop)\n",
    "print('Standard deviation:',sd_diff)"
   ]
  },
  {
   "cell_type": "markdown",
   "metadata": {},
   "source": [
    "### Bland-Altman plot"
   ]
  },
  {
   "cell_type": "code",
   "execution_count": 12,
   "metadata": {},
   "outputs": [
    {
     "data": {
      "image/png": "[encoded data removed]",
      "text/plain": [
       "<Figure size 425.625x360 with 1 Axes>"
      ]
     },
     "metadata": {
      "needs_background": "light"
     },
     "output_type": "display_data"
    }
   ],
   "source": [
    "proportions = df_res_Cytopt[[\"h_true\", \"h_hat\"]]\n",
    "proportions.columns = [\"Gold_standard\", \"desasc\"]\n",
    "CytOpt_plot.Bland_Altman(proportions, list(df_res_Cytopt[\"Classe\"]))"
   ]
  },
  {
   "cell_type": "code",
   "execution_count": null,
   "metadata": {},
   "outputs": [],
   "source": []
  }
 ],
 "metadata": {
  "kernelspec": {
   "display_name": "Python 3 (ipykernel)",
   "language": "python",
   "name": "python3"
  },
  "language_info": {
   "codemirror_mode": {
    "name": "ipython",
    "version": 3
   },
   "file_extension": ".py",
   "mimetype": "text/x-python",
   "name": "python",
   "nbconvert_exporter": "python",
   "pygments_lexer": "ipython3",
   "version": "3.8.8"
  }
 },
 "nbformat": 4,
 "nbformat_minor": 2
}
