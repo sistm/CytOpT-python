{
 "cells": [
  {
   "cell_type": "markdown",
   "id": "9aa914f5",
   "metadata": {},
   "source": [
    "## Comparison between the two optimization methods proposed in the article: \n",
    "The descent-ascent procedure and the minmax swapping procedure.\n",
    "\n",
    "Import modules and functions"
   ]
  },
  {
   "cell_type": "code",
   "execution_count": 3,
   "id": "2caa2853",
   "metadata": {},
   "outputs": [],
   "source": [
    "from CytOpT import CytOpt_main\n",
    "from CytOpT import CytOpt_plot"
   ]
  },
  {
   "cell_type": "code",
   "execution_count": null,
   "id": "5504b26f",
   "metadata": {},
   "outputs": [],
   "source": []
  }
 ],
 "metadata": {
  "kernelspec": {
   "display_name": "Python 3 (ipykernel)",
   "language": "python",
   "name": "python3"
  },
  "language_info": {
   "codemirror_mode": {
    "name": "ipython",
    "version": 3
   },
   "file_extension": ".py",
   "mimetype": "text/x-python",
   "name": "python",
   "nbconvert_exporter": "python",
   "pygments_lexer": "ipython3",
   "version": "3.8.8"
  }
 },
 "nbformat": 4,
 "nbformat_minor": 5
}
