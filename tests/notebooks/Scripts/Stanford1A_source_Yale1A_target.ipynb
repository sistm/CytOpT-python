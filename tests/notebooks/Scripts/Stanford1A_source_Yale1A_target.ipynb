{
 "cells": [
  {
   "cell_type": "markdown",
   "id": "4797fe5a",
   "metadata": {},
   "source": [
    "# CytOpt on the source \"Stanford1A\" and the target \"Yale1A\""
   ]
  },
  {
   "cell_type": "markdown",
   "id": "e7892bfd",
   "metadata": {},
   "source": [
    "### import modules and functions"
   ]
  },
  {
   "cell_type": "code",
   "execution_count": 2,
   "id": "a3840f5f",
   "metadata": {},
   "outputs": [
    {
     "ename": "ModuleNotFoundError",
     "evalue": "No module named 'CytOpT'",
     "output_type": "error",
     "traceback": [
      "\u001b[0;31m---------------------------------------------------------------------------\u001b[0m",
      "\u001b[0;31mModuleNotFoundError\u001b[0m                       Traceback (most recent call last)",
      "Input \u001b[0;32mIn [2]\u001b[0m, in \u001b[0;36m<cell line: 6>\u001b[0;34m()\u001b[0m\n\u001b[1;32m      4\u001b[0m \u001b[38;5;28;01mimport\u001b[39;00m \u001b[38;5;21;01mseaborn\u001b[39;00m \u001b[38;5;28;01mas\u001b[39;00m \u001b[38;5;21;01msns\u001b[39;00m\n\u001b[1;32m      5\u001b[0m \u001b[38;5;28;01mimport\u001b[39;00m \u001b[38;5;21;01mtime\u001b[39;00m\n\u001b[0;32m----> 6\u001b[0m \u001b[38;5;28;01mimport\u001b[39;00m \u001b[38;5;21;01mCytOpT\u001b[39;00m\n\u001b[1;32m      7\u001b[0m \u001b[38;5;28;01mimport\u001b[39;00m \u001b[38;5;21;01mCytOpT\u001b[39;00m\u001b[38;5;21;01m.\u001b[39;00m\u001b[38;5;21;01mCytOpt\u001b[39;00m \u001b[38;5;28;01mas\u001b[39;00m \u001b[38;5;21;01mcytopt\u001b[39;00m\n\u001b[1;32m      8\u001b[0m \u001b[38;5;28;01mimport\u001b[39;00m \u001b[38;5;21;01mCytOpT\u001b[39;00m\u001b[38;5;21;01m.\u001b[39;00m\u001b[38;5;21;01mplots\u001b[39;00m \u001b[38;5;28;01mas\u001b[39;00m \u001b[38;5;21;01mcplt\u001b[39;00m\n",
      "\u001b[0;31mModuleNotFoundError\u001b[0m: No module named 'CytOpT'"
     ]
    }
   ],
   "source": [
    "import numpy as np\n",
    "import pandas as pd\n",
    "import matplotlib.pyplot as plt\n",
    "import seaborn as sns\n",
    "import time\n",
    "\n",
    "import CytOpT.CytOpt as cytopt\n",
    "import CytOpT.plots as cplt"
   ]
  },
  {
   "cell_type": "markdown",
   "id": "d6fe46cf",
   "metadata": {},
   "source": [
    "### import data"
   ]
  },
  {
   "cell_type": "code",
   "execution_count": null,
   "id": "1c10978b",
   "metadata": {},
   "outputs": [],
   "source": [
    "# Source Data\n",
    "\n",
    "Source = pd.read_csv('../tests/data/W2_1_values.csv',\n",
    "                         usecols=np.arange(1, 8))\n",
    "lab_Source = pd.read_csv('../tests/data/W2_1_clust.csv',\n",
    "                             usecols=[1])\n",
    "\n",
    "\n",
    "    # Target Data\n",
    "Target = pd.read_csv('../tests/data/FTV_1_values.csv',\n",
    "                         usecols=np.arange(1, 8))\n",
    "lab_target = pd.read_csv('../tests/data/FTV_1_clust.csv',\n",
    "                             usecols=[1])"
   ]
  },
  {
   "cell_type": "markdown",
   "id": "8a747fb8",
   "metadata": {},
   "source": [
    "### Preprocessing of the source data"
   ]
  },
  {
   "cell_type": "code",
   "execution_count": null,
   "id": "6c9d369b",
   "metadata": {},
   "outputs": [],
   "source": [
    "scaler = MinMaxScaler()\n",
    "\n",
    "# For source\n",
    "\n",
    "X_source = np.asarray(Source)\n",
    "X_source = X_source * (X_source > 0)\n",
    "X_source = scaler.fit_transform(X_source)\n",
    "Lab_source = np.asarray(lab_Source['x'])\n",
    "\n",
    "\n",
    "# For target\n",
    "X_target = np.asarray(Target)\n",
    "X_target = X_target * (X_target > 0)\n",
    "X_target = scaler.transform(X_target)\n",
    "Lab_target = np.asarray(lab_target['x'])"
   ]
  },
  {
   "cell_type": "markdown",
   "id": "d410ac7d",
   "metadata": {},
   "source": [
    "### Computation of the benchmark class proportions"
   ]
  },
  {
   "cell_type": "code",
   "execution_count": null,
   "id": "9c5cb517",
   "metadata": {},
   "outputs": [],
   "source": [
    "pi_target = np.zeros(10)\n",
    "for k in range(10):\n",
    "    pi_target[k] = np.sum(Lab_target == k + 1) / len(Lab_target)\n",
    "    \n",
    "pi_target"
   ]
  },
  {
   "cell_type": "markdown",
   "id": "5fde5f3f",
   "metadata": {},
   "source": [
    "### Cytop execute"
   ]
  },
  {
   "cell_type": "code",
   "execution_count": null,
   "id": "23bbc609",
   "metadata": {},
   "outputs": [],
   "source": [
    "parameters_cytopt = {\"eps\": 0.0001, \"lbd\": 0.0001, \"nIter\": 10000, \"nItGrad\": 5000, \"method\": 'minmax',\n",
    "                         \"step\": 10, \"power\": 0.99, \"monitoring\": True, \"minMaxScaler\": True}\n",
    "\n",
    "\n",
    "res = CytOpT(X_source, X_target, Lab_source,\n",
    "                 thetaTrue=pi_target, **parameters_cytopt)\n",
    "\n",
    "res"
   ]
  }
 ],
 "metadata": {
  "kernelspec": {
   "display_name": "Python 3 (ipykernel)",
   "language": "python",
   "name": "python3"
  },
  "language_info": {
   "codemirror_mode": {
    "name": "ipython",
    "version": 3
   },
   "file_extension": ".py",
   "mimetype": "text/x-python",
   "name": "python",
   "nbconvert_exporter": "python",
   "pygments_lexer": "ipython3",
   "version": "3.9.12"
  }
 },
 "nbformat": 4,
 "nbformat_minor": 5
}
