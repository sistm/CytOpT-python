{
 "cells": [
  {
   "cell_type": "markdown",
   "id": "6425c31c",
   "metadata": {},
   "source": [
    "## Comparison between the two optimization methods proposed in the article: \n",
    "The descent-ascent procedure and the minmax swapping procedure.\n",
    "\n",
    "Import modules and functions"
   ]
  },
  {
   "cell_type": "code",
   "execution_count": 9,
   "id": "76e53974",
   "metadata": {},
   "outputs": [],
   "source": [
    "import pandas as pd\n",
    "import numpy as np\n",
    "from CytOpT import CytOpt_main\n",
    "from CytOpT import CytOpt_plot"
   ]
  },
  {
   "cell_type": "markdown",
   "id": "3a077783",
   "metadata": {},
   "source": [
    "Import data"
   ]
  },
  {
   "cell_type": "code",
   "execution_count": 10,
   "id": "85a4c2cc",
   "metadata": {},
   "outputs": [],
   "source": [
    "#Source Data\n",
    "\n",
    "Stanford1A_values = pd.read_csv('../Data/W2_1_values.csv',\n",
    "                                 usecols = np.arange(1,8))\n",
    "Stanford1A_clust = pd.read_csv('../Data/W2_1_clust.csv',\n",
    "                                usecols = [1])\n",
    "\n",
    "#Target Data\n",
    "\n",
    "Stanford3A_values = pd.read_csv('../Data/W2_7_values.csv',\n",
    "                                 usecols = np.arange(1,8))\n",
    "Stanford3A_clust = pd.read_csv('../Data/W2_7_clust.csv',\n",
    "                                usecols = [1])"
   ]
  },
  {
   "cell_type": "markdown",
   "id": "10e99950",
   "metadata": {},
   "source": [
    "We are in the frame work where our cytometry data are divided into 10 classes and the 7 markers available are used to estimate the class proportions in the target data set."
   ]
  },
  {
   "cell_type": "code",
   "execution_count": 17,
   "id": "299f9c55",
   "metadata": {},
   "outputs": [],
   "source": [
    "X_source = np.asarray(Stanford1A_values)\n",
    "X_target = np.asarray(Stanford3A_values)\n",
    "\n",
    "Lab_source = np.asarray(Stanford1A_clust['x'])\n",
    "Lab_target = np.asarray(Stanford3A_clust['x'])"
   ]
  },
  {
   "cell_type": "markdown",
   "id": "fe9f2ae6",
   "metadata": {},
   "source": [
    "Computation of the benchmark proportions  in the target data set"
   ]
  },
  {
   "cell_type": "code",
   "execution_count": 18,
   "id": "03515fd4",
   "metadata": {},
   "outputs": [
    {
     "name": "stdout",
     "output_type": "stream",
     "text": [
      "[0.017004   0.12873617 0.048482   0.05748411 0.00909037 0.00232408\n",
      " 0.33146034 0.28171334 0.10208284 0.02162273]\n"
     ]
    }
   ],
   "source": [
    "h_target = np.zeros(10)\n",
    "for k in range(10):\n",
    "    h_target[k] = np.sum(Lab_target == k+1)/len(Lab_target)\n",
    "\n",
    "print(h_target)"
   ]
  },
  {
   "cell_type": "markdown",
   "id": "5af99d5e",
   "metadata": {},
   "source": [
    " ### 'CytOpT' to compute an estimate of the class proportions."
   ]
  },
  {
   "cell_type": "code",
   "execution_count": null,
   "id": "6a3a3f96",
   "metadata": {},
   "outputs": [],
   "source": []
  }
 ],
 "metadata": {
  "kernelspec": {
   "display_name": "Python 3 (ipykernel)",
   "language": "python",
   "name": "python3"
  },
  "language_info": {
   "codemirror_mode": {
    "name": "ipython",
    "version": 3
   },
   "file_extension": ".py",
   "mimetype": "text/x-python",
   "name": "python",
   "nbconvert_exporter": "python",
   "pygments_lexer": "ipython3",
   "version": "3.8.8"
  }
 },
 "nbformat": 4,
 "nbformat_minor": 5
}
